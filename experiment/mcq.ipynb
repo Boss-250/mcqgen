{
 "cells": [
  {
   "cell_type": "code",
   "execution_count": 1,
   "metadata": {},
   "outputs": [],
   "source": [
    "import os\n",
    "import json\n",
    "import pandas as pd\n",
    "import traceback"
   ]
  },
  {
   "cell_type": "code",
   "execution_count": 5,
   "metadata": {},
   "outputs": [],
   "source": [
    "from langchain.chat_models import init_chat_model"
   ]
  },
  {
   "cell_type": "code",
   "execution_count": 13,
   "metadata": {},
   "outputs": [
    {
     "name": "stdout",
     "output_type": "stream",
     "text": [
      "Requirement already satisfied: mistralai in /home/kube/mcqgen/env/lib/python3.8/site-packages (0.0.12)\n",
      "Requirement already satisfied: httpx<0.26.0,>=0.25.2 in /home/kube/mcqgen/env/lib/python3.8/site-packages (from mistralai) (0.25.2)\n",
      "Requirement already satisfied: orjson<4.0.0,>=3.9.10 in /home/kube/mcqgen/env/lib/python3.8/site-packages (from mistralai) (3.10.5)\n",
      "Requirement already satisfied: pydantic<3.0.0,>=2.5.2 in /home/kube/mcqgen/env/lib/python3.8/site-packages (from mistralai) (2.7.4)\n",
      "Requirement already satisfied: anyio in /home/kube/mcqgen/env/lib/python3.8/site-packages (from httpx<0.26.0,>=0.25.2->mistralai) (4.4.0)\n",
      "Requirement already satisfied: certifi in /home/kube/mcqgen/env/lib/python3.8/site-packages (from httpx<0.26.0,>=0.25.2->mistralai) (2024.6.2)\n",
      "Requirement already satisfied: httpcore==1.* in /home/kube/mcqgen/env/lib/python3.8/site-packages (from httpx<0.26.0,>=0.25.2->mistralai) (1.0.5)\n",
      "Requirement already satisfied: idna in /home/kube/mcqgen/env/lib/python3.8/site-packages (from httpx<0.26.0,>=0.25.2->mistralai) (3.7)\n",
      "Requirement already satisfied: sniffio in /home/kube/mcqgen/env/lib/python3.8/site-packages (from httpx<0.26.0,>=0.25.2->mistralai) (1.3.1)\n",
      "Requirement already satisfied: h11<0.15,>=0.13 in /home/kube/mcqgen/env/lib/python3.8/site-packages (from httpcore==1.*->httpx<0.26.0,>=0.25.2->mistralai) (0.14.0)\n",
      "Requirement already satisfied: annotated-types>=0.4.0 in /home/kube/mcqgen/env/lib/python3.8/site-packages (from pydantic<3.0.0,>=2.5.2->mistralai) (0.7.0)\n",
      "Requirement already satisfied: pydantic-core==2.18.4 in /home/kube/mcqgen/env/lib/python3.8/site-packages (from pydantic<3.0.0,>=2.5.2->mistralai) (2.18.4)\n",
      "Requirement already satisfied: typing-extensions>=4.6.1 in /home/kube/mcqgen/env/lib/python3.8/site-packages (from pydantic<3.0.0,>=2.5.2->mistralai) (4.12.2)\n",
      "Requirement already satisfied: exceptiongroup>=1.0.2 in /home/kube/mcqgen/env/lib/python3.8/site-packages (from anyio->httpx<0.26.0,>=0.25.2->mistralai) (1.2.1)\n",
      "Note: you may need to restart the kernel to use updated packages.\n"
     ]
    }
   ],
   "source": [
    "%pip install mistralai"
   ]
  },
  {
   "cell_type": "code",
   "execution_count": 2,
   "metadata": {},
   "outputs": [
    {
     "data": {
      "text/plain": [
       "True"
      ]
     },
     "execution_count": 2,
     "metadata": {},
     "output_type": "execute_result"
    }
   ],
   "source": [
    "from dotenv import load_dotenv\n",
    "load_dotenv()"
   ]
  },
  {
   "cell_type": "code",
   "execution_count": 2,
   "metadata": {},
   "outputs": [
    {
     "name": "stdout",
     "output_type": "stream",
     "text": [
      "Requirement already satisfied: python-dotenv in /home/kube/mcqgen/env/lib/python3.8/site-packages (1.0.1)\n",
      "Note: you may need to restart the kernel to use updated packages.\n"
     ]
    }
   ],
   "source": [
    "%pip install python-dotenv"
   ]
  },
  {
   "cell_type": "code",
   "execution_count": 1,
   "metadata": {},
   "outputs": [
    {
     "name": "stdout",
     "output_type": "stream",
     "text": [
      "Requirement already satisfied: PyPDF2 in /home/kube/mcqgen/env/lib/python3.8/site-packages (3.0.1)\n",
      "Requirement already satisfied: typing_extensions>=3.10.0.0 in /home/kube/mcqgen/env/lib/python3.8/site-packages (from PyPDF2) (4.12.2)\n",
      "Note: you may need to restart the kernel to use updated packages.\n"
     ]
    }
   ],
   "source": [
    "pip install PyPDF2"
   ]
  },
  {
   "cell_type": "code",
   "execution_count": null,
   "metadata": {},
   "outputs": [],
   "source": []
  }
 ],
 "metadata": {
  "kernelspec": {
   "display_name": "Python 3",
   "language": "python",
   "name": "python3"
  },
  "language_info": {
   "codemirror_mode": {
    "name": "ipython",
    "version": 3
   },
   "file_extension": ".py",
   "mimetype": "text/x-python",
   "name": "python",
   "nbconvert_exporter": "python",
   "pygments_lexer": "ipython3",
   "version": "3.8.19"
  }
 },
 "nbformat": 4,
 "nbformat_minor": 2
}
